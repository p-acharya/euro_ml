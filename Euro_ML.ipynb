{
 "cells": [
  {
   "cell_type": "code",
   "execution_count": 1,
   "metadata": {},
   "outputs": [],
   "source": [
    "import pandas as pd \n",
    "import glob\n",
    "import numpy as np\n",
    "from sklearn.feature_extraction.text import TfidfVectorizer"
   ]
  },
  {
   "cell_type": "code",
   "execution_count": 2,
   "metadata": {},
   "outputs": [],
   "source": [
    "vectorizer = TfidfVectorizer()"
   ]
  },
  {
   "cell_type": "code",
   "execution_count": 3,
   "metadata": {},
   "outputs": [],
   "source": [
    "L = []\n",
    "for csv in glob.glob('*.csv'):\n",
    "    df1 = pd.read_csv(csv, encoding='latin-1')\n",
    "    L.append(df1)\n",
    "    \n",
    "df = pd.concat(L, axis = 0, sort=False)\n"
   ]
  },
  {
   "cell_type": "code",
   "execution_count": 4,
   "metadata": {},
   "outputs": [
    {
     "data": {
      "text/plain": [
       "array([0. , 0.5, 1. , nan])"
      ]
     },
     "execution_count": 4,
     "metadata": {},
     "output_type": "execute_result"
    }
   ],
   "source": [
    "df['Euroskepticism_Score'].unique()\n",
    "#checking how many unique vals are there per column so can we can set all non zero vals to 1"
   ]
  },
  {
   "cell_type": "code",
   "execution_count": 5,
   "metadata": {},
   "outputs": [
    {
     "data": {
      "text/plain": [
       "array([0.5, 0. , 1. , nan])"
      ]
     },
     "execution_count": 5,
     "metadata": {},
     "output_type": "execute_result"
    }
   ],
   "source": [
    "df['Nationalism_Score'].unique()"
   ]
  },
  {
   "cell_type": "code",
   "execution_count": 6,
   "metadata": {},
   "outputs": [
    {
     "data": {
      "text/plain": [
       "array([0.0, 0.5, nan,\n",
       "       ' Gaddafi attacked the French for ???interfering in his business?? ',\n",
       "       '0', '0.5', '1',\n",
       "       'EU must take appropriate and swift action to protect and guard its aquaculture against such unfair competition.',\n",
       "       1.0], dtype=object)"
      ]
     },
     "execution_count": 6,
     "metadata": {},
     "output_type": "execute_result"
    }
   ],
   "source": [
    "df['Populism_Score'].unique()"
   ]
  },
  {
   "cell_type": "code",
   "execution_count": 7,
   "metadata": {},
   "outputs": [],
   "source": [
    "df = df[['Question Text', 'Euroskepticism_Score', 'Nationalism_Score','Populism_Score']]"
   ]
  },
  {
   "cell_type": "code",
   "execution_count": 8,
   "metadata": {},
   "outputs": [],
   "source": [
    "P= [' Gaddafi attacked the French for ???interfering in his business?? ',\n",
    "    'EU must take appropriate and swift action to protect and guard its aquaculture against such unfair competition.']\n",
    "\n",
    "df = df.dropna()\n",
    "df = df[~df['Populism_Score'].isin(P)]"
   ]
  },
  {
   "cell_type": "code",
   "execution_count": 9,
   "metadata": {
    "scrolled": true
   },
   "outputs": [
    {
     "data": {
      "text/html": [
       "<div>\n",
       "<style scoped>\n",
       "    .dataframe tbody tr th:only-of-type {\n",
       "        vertical-align: middle;\n",
       "    }\n",
       "\n",
       "    .dataframe tbody tr th {\n",
       "        vertical-align: top;\n",
       "    }\n",
       "\n",
       "    .dataframe thead th {\n",
       "        text-align: right;\n",
       "    }\n",
       "</style>\n",
       "<table border=\"1\" class=\"dataframe\">\n",
       "  <thead>\n",
       "    <tr style=\"text-align: right;\">\n",
       "      <th></th>\n",
       "      <th>Question Text</th>\n",
       "      <th>Euroskepticism_Score</th>\n",
       "      <th>Nationalism_Score</th>\n",
       "      <th>Populism_Score</th>\n",
       "    </tr>\n",
       "  </thead>\n",
       "  <tbody>\n",
       "    <tr>\n",
       "      <th>0</th>\n",
       "      <td>In her recent statements Ms Maria Fekter the A...</td>\n",
       "      <td>0.0</td>\n",
       "      <td>0.5</td>\n",
       "      <td>0</td>\n",
       "    </tr>\n",
       "    <tr>\n",
       "      <th>1</th>\n",
       "      <td>How would the High Representative characterise...</td>\n",
       "      <td>0.0</td>\n",
       "      <td>0.0</td>\n",
       "      <td>0</td>\n",
       "    </tr>\n",
       "    <tr>\n",
       "      <th>2</th>\n",
       "      <td>How would the High Representative characterise...</td>\n",
       "      <td>0.0</td>\n",
       "      <td>0.0</td>\n",
       "      <td>0</td>\n",
       "    </tr>\n",
       "    <tr>\n",
       "      <th>3</th>\n",
       "      <td>How would the High Representative characterise...</td>\n",
       "      <td>0.0</td>\n",
       "      <td>0.0</td>\n",
       "      <td>0</td>\n",
       "    </tr>\n",
       "    <tr>\n",
       "      <th>4</th>\n",
       "      <td>In his speech to the European Economic and Soc...</td>\n",
       "      <td>0.5</td>\n",
       "      <td>0.0</td>\n",
       "      <td>0</td>\n",
       "    </tr>\n",
       "    <tr>\n",
       "      <th>5</th>\n",
       "      <td>In view of the important contribution made by ...</td>\n",
       "      <td>0.0</td>\n",
       "      <td>0.0</td>\n",
       "      <td>0</td>\n",
       "    </tr>\n",
       "    <tr>\n",
       "      <th>6</th>\n",
       "      <td>The financial support measures granted to some...</td>\n",
       "      <td>0.5</td>\n",
       "      <td>0.0</td>\n",
       "      <td>0.5</td>\n",
       "    </tr>\n",
       "    <tr>\n",
       "      <th>7</th>\n",
       "      <td>In 2009 the European Union launched the School...</td>\n",
       "      <td>0.0</td>\n",
       "      <td>0.0</td>\n",
       "      <td>0</td>\n",
       "    </tr>\n",
       "    <tr>\n",
       "      <th>8</th>\n",
       "      <td>During 2010 three wolves were killed on the Od...</td>\n",
       "      <td>0.0</td>\n",
       "      <td>0.0</td>\n",
       "      <td>0</td>\n",
       "    </tr>\n",
       "    <tr>\n",
       "      <th>9</th>\n",
       "      <td>Is the European Commission aware  of the pheno...</td>\n",
       "      <td>0.0</td>\n",
       "      <td>0.0</td>\n",
       "      <td>0</td>\n",
       "    </tr>\n",
       "    <tr>\n",
       "      <th>10</th>\n",
       "      <td>One of the EU agencies the European Food Safet...</td>\n",
       "      <td>0.5</td>\n",
       "      <td>0.0</td>\n",
       "      <td>0</td>\n",
       "    </tr>\n",
       "    <tr>\n",
       "      <th>11</th>\n",
       "      <td>According to several answers given by Ms Malms...</td>\n",
       "      <td>0.5</td>\n",
       "      <td>0.0</td>\n",
       "      <td>0</td>\n",
       "    </tr>\n",
       "    <tr>\n",
       "      <th>12</th>\n",
       "      <td>According to the SWR television programme Repo...</td>\n",
       "      <td>0.0</td>\n",
       "      <td>0.0</td>\n",
       "      <td>0</td>\n",
       "    </tr>\n",
       "    <tr>\n",
       "      <th>13</th>\n",
       "      <td>In a number of European countries considerable...</td>\n",
       "      <td>0.0</td>\n",
       "      <td>0.0</td>\n",
       "      <td>0</td>\n",
       "    </tr>\n",
       "    <tr>\n",
       "      <th>14</th>\n",
       "      <td>The road haulage industry is a vital asset to ...</td>\n",
       "      <td>0.0</td>\n",
       "      <td>0.0</td>\n",
       "      <td>0</td>\n",
       "    </tr>\n",
       "    <tr>\n",
       "      <th>15</th>\n",
       "      <td>Given that sport is of the utmost importance f...</td>\n",
       "      <td>0.0</td>\n",
       "      <td>0.0</td>\n",
       "      <td>0</td>\n",
       "    </tr>\n",
       "    <tr>\n",
       "      <th>16</th>\n",
       "      <td>According to the website of the newspaper Elef...</td>\n",
       "      <td>0.5</td>\n",
       "      <td>0.0</td>\n",
       "      <td>0</td>\n",
       "    </tr>\n",
       "    <tr>\n",
       "      <th>17</th>\n",
       "      <td>The earthquake the tsunami and the radiation l...</td>\n",
       "      <td>0.0</td>\n",
       "      <td>0.5</td>\n",
       "      <td>0</td>\n",
       "    </tr>\n",
       "    <tr>\n",
       "      <th>18</th>\n",
       "      <td>According to Directive 2004/24/EC of the Europ...</td>\n",
       "      <td>0.0</td>\n",
       "      <td>0.0</td>\n",
       "      <td>0</td>\n",
       "    </tr>\n",
       "    <tr>\n",
       "      <th>19</th>\n",
       "      <td>In its Green Paper on the modernisation of EU ...</td>\n",
       "      <td>0.0</td>\n",
       "      <td>0.0</td>\n",
       "      <td>0</td>\n",
       "    </tr>\n",
       "    <tr>\n",
       "      <th>20</th>\n",
       "      <td>Silicon Valley is a unique business environmen...</td>\n",
       "      <td>0.0</td>\n",
       "      <td>0.0</td>\n",
       "      <td>0</td>\n",
       "    </tr>\n",
       "    <tr>\n",
       "      <th>21</th>\n",
       "      <td>A report recently published by the European se...</td>\n",
       "      <td>0.0</td>\n",
       "      <td>0.0</td>\n",
       "      <td>0</td>\n",
       "    </tr>\n",
       "    <tr>\n",
       "      <th>22</th>\n",
       "      <td>Reportedly one of the main points of friction ...</td>\n",
       "      <td>0.0</td>\n",
       "      <td>0.0</td>\n",
       "      <td>0</td>\n",
       "    </tr>\n",
       "    <tr>\n",
       "      <th>23</th>\n",
       "      <td>A change was recently made to the remit of the...</td>\n",
       "      <td>0.0</td>\n",
       "      <td>0.0</td>\n",
       "      <td>0</td>\n",
       "    </tr>\n",
       "    <tr>\n",
       "      <th>24</th>\n",
       "      <td>The numerous cases of match-fixing and illegal...</td>\n",
       "      <td>0.0</td>\n",
       "      <td>0.0</td>\n",
       "      <td>0</td>\n",
       "    </tr>\n",
       "    <tr>\n",
       "      <th>25</th>\n",
       "      <td>After the protests by farmers in Brittany does...</td>\n",
       "      <td>0.0</td>\n",
       "      <td>0.0</td>\n",
       "      <td>0</td>\n",
       "    </tr>\n",
       "    <tr>\n",
       "      <th>26</th>\n",
       "      <td>After an in-depth investigation the European P...</td>\n",
       "      <td>0.0</td>\n",
       "      <td>0.0</td>\n",
       "      <td>0</td>\n",
       "    </tr>\n",
       "    <tr>\n",
       "      <th>27</th>\n",
       "      <td>Consideration should be given to the state of ...</td>\n",
       "      <td>0.0</td>\n",
       "      <td>0.0</td>\n",
       "      <td>0</td>\n",
       "    </tr>\n",
       "    <tr>\n",
       "      <th>28</th>\n",
       "      <td>Recent and ongoing events have plunged Ukraine...</td>\n",
       "      <td>0.0</td>\n",
       "      <td>0.0</td>\n",
       "      <td>0</td>\n",
       "    </tr>\n",
       "    <tr>\n",
       "      <th>29</th>\n",
       "      <td>There have recently been reports that the Comm...</td>\n",
       "      <td>0.0</td>\n",
       "      <td>0.0</td>\n",
       "      <td>0</td>\n",
       "    </tr>\n",
       "    <tr>\n",
       "      <th>...</th>\n",
       "      <td>...</td>\n",
       "      <td>...</td>\n",
       "      <td>...</td>\n",
       "      <td>...</td>\n",
       "    </tr>\n",
       "    <tr>\n",
       "      <th>72</th>\n",
       "      <td>Strained relations with the Russian Federation...</td>\n",
       "      <td>0.0</td>\n",
       "      <td>0.0</td>\n",
       "      <td>0</td>\n",
       "    </tr>\n",
       "    <tr>\n",
       "      <th>73</th>\n",
       "      <td>In its answer to Petition 0344/2006 on alleged...</td>\n",
       "      <td>0.0</td>\n",
       "      <td>0.0</td>\n",
       "      <td>0</td>\n",
       "    </tr>\n",
       "    <tr>\n",
       "      <th>74</th>\n",
       "      <td>According to an interim report published on 1 ...</td>\n",
       "      <td>0.0</td>\n",
       "      <td>0.0</td>\n",
       "      <td>0</td>\n",
       "    </tr>\n",
       "    <tr>\n",
       "      <th>75</th>\n",
       "      <td>Every year anÂ  ritual takes place in the Faro...</td>\n",
       "      <td>0.0</td>\n",
       "      <td>0.0</td>\n",
       "      <td>0</td>\n",
       "    </tr>\n",
       "    <tr>\n",
       "      <th>76</th>\n",
       "      <td>How does the Commission viewÂ  of the followin...</td>\n",
       "      <td>0.0</td>\n",
       "      <td>0.0</td>\n",
       "      <td>0</td>\n",
       "    </tr>\n",
       "    <tr>\n",
       "      <th>77</th>\n",
       "      <td>InÂ  from the Commission to the European Parli...</td>\n",
       "      <td>0.0</td>\n",
       "      <td>0.0</td>\n",
       "      <td>0</td>\n",
       "    </tr>\n",
       "    <tr>\n",
       "      <th>78</th>\n",
       "      <td>On 11 February 2013 due to the possibility of ...</td>\n",
       "      <td>0.0</td>\n",
       "      <td>0.0</td>\n",
       "      <td>0</td>\n",
       "    </tr>\n",
       "    <tr>\n",
       "      <th>79</th>\n",
       "      <td>Does the Commission know whether and how much ...</td>\n",
       "      <td>0.0</td>\n",
       "      <td>0.0</td>\n",
       "      <td>0</td>\n",
       "    </tr>\n",
       "    <tr>\n",
       "      <th>80</th>\n",
       "      <td>The High Representative recently participated ...</td>\n",
       "      <td>0.5</td>\n",
       "      <td>0.0</td>\n",
       "      <td>0</td>\n",
       "    </tr>\n",
       "    <tr>\n",
       "      <th>81</th>\n",
       "      <td>Under the EUs financial framework for 200713 n...</td>\n",
       "      <td>0.0</td>\n",
       "      <td>0.0</td>\n",
       "      <td>0</td>\n",
       "    </tr>\n",
       "    <tr>\n",
       "      <th>82</th>\n",
       "      <td>Research by the University of Dalhousie in Can...</td>\n",
       "      <td>0.0</td>\n",
       "      <td>0.0</td>\n",
       "      <td>0</td>\n",
       "    </tr>\n",
       "    <tr>\n",
       "      <th>83</th>\n",
       "      <td>It is well known that all the EU Member States...</td>\n",
       "      <td>0.0</td>\n",
       "      <td>0.0</td>\n",
       "      <td>0</td>\n",
       "    </tr>\n",
       "    <tr>\n",
       "      <th>84</th>\n",
       "      <td>The disaster in the Gulf of Mexico has not yet...</td>\n",
       "      <td>0.5</td>\n",
       "      <td>0.0</td>\n",
       "      <td>0</td>\n",
       "    </tr>\n",
       "    <tr>\n",
       "      <th>85</th>\n",
       "      <td>More than USD 2 billion in development aid has...</td>\n",
       "      <td>1.0</td>\n",
       "      <td>0.0</td>\n",
       "      <td>0</td>\n",
       "    </tr>\n",
       "    <tr>\n",
       "      <th>86</th>\n",
       "      <td>2010 is the International Year of Biodiversity...</td>\n",
       "      <td>0.0</td>\n",
       "      <td>0.0</td>\n",
       "      <td>0</td>\n",
       "    </tr>\n",
       "    <tr>\n",
       "      <th>87</th>\n",
       "      <td>The EU wine market underwent reform in 2008. T...</td>\n",
       "      <td>0.0</td>\n",
       "      <td>0.0</td>\n",
       "      <td>0</td>\n",
       "    </tr>\n",
       "    <tr>\n",
       "      <th>88</th>\n",
       "      <td>In view of Iberias plans Singapore Airlines is...</td>\n",
       "      <td>0.5</td>\n",
       "      <td>0.0</td>\n",
       "      <td>0</td>\n",
       "    </tr>\n",
       "    <tr>\n",
       "      <th>89</th>\n",
       "      <td>There is no direct regional passenger rail ser...</td>\n",
       "      <td>0.0</td>\n",
       "      <td>0.0</td>\n",
       "      <td>0</td>\n",
       "    </tr>\n",
       "    <tr>\n",
       "      <th>90</th>\n",
       "      <td>Each year in Europe around 100 billion plastic...</td>\n",
       "      <td>0.0</td>\n",
       "      <td>0.0</td>\n",
       "      <td>0</td>\n",
       "    </tr>\n",
       "    <tr>\n",
       "      <th>91</th>\n",
       "      <td>It was reported in the press a few days ago th...</td>\n",
       "      <td>0.0</td>\n",
       "      <td>0.0</td>\n",
       "      <td>0</td>\n",
       "    </tr>\n",
       "    <tr>\n",
       "      <th>92</th>\n",
       "      <td>The CorcubiÃ³n estuary in Galicia is a site of...</td>\n",
       "      <td>0.5</td>\n",
       "      <td>0.0</td>\n",
       "      <td>0</td>\n",
       "    </tr>\n",
       "    <tr>\n",
       "      <th>93</th>\n",
       "      <td>The registering of medical-veterinary products...</td>\n",
       "      <td>0.0</td>\n",
       "      <td>0.0</td>\n",
       "      <td>0</td>\n",
       "    </tr>\n",
       "    <tr>\n",
       "      <th>94</th>\n",
       "      <td>The supply and private import of vehicles not ...</td>\n",
       "      <td>0.0</td>\n",
       "      <td>0.0</td>\n",
       "      <td>0</td>\n",
       "    </tr>\n",
       "    <tr>\n",
       "      <th>95</th>\n",
       "      <td>At a recent meeting with milk producers in the...</td>\n",
       "      <td>0.0</td>\n",
       "      <td>0.0</td>\n",
       "      <td>0</td>\n",
       "    </tr>\n",
       "    <tr>\n",
       "      <th>96</th>\n",
       "      <td>In a consultative paper published recently htt...</td>\n",
       "      <td>0.0</td>\n",
       "      <td>0.0</td>\n",
       "      <td>0</td>\n",
       "    </tr>\n",
       "    <tr>\n",
       "      <th>97</th>\n",
       "      <td>Does the Commission know how many travel agenc...</td>\n",
       "      <td>0.0</td>\n",
       "      <td>0.0</td>\n",
       "      <td>0</td>\n",
       "    </tr>\n",
       "    <tr>\n",
       "      <th>98</th>\n",
       "      <td>Ten years have passed since China ratified the...</td>\n",
       "      <td>0.0</td>\n",
       "      <td>0.0</td>\n",
       "      <td>0</td>\n",
       "    </tr>\n",
       "    <tr>\n",
       "      <th>99</th>\n",
       "      <td>As a result of the vote on the subject at the ...</td>\n",
       "      <td>0.0</td>\n",
       "      <td>0.0</td>\n",
       "      <td>0</td>\n",
       "    </tr>\n",
       "    <tr>\n",
       "      <th>100</th>\n",
       "      <td>The European Commission has submitted a propos...</td>\n",
       "      <td>0.0</td>\n",
       "      <td>0.0</td>\n",
       "      <td>0</td>\n",
       "    </tr>\n",
       "    <tr>\n",
       "      <th>101</th>\n",
       "      <td>Under NATO auspices with the participation of ...</td>\n",
       "      <td>0.0</td>\n",
       "      <td>0.0</td>\n",
       "      <td>0</td>\n",
       "    </tr>\n",
       "  </tbody>\n",
       "</table>\n",
       "<p>1579 rows × 4 columns</p>\n",
       "</div>"
      ],
      "text/plain": [
       "                                         Question Text  Euroskepticism_Score  \\\n",
       "0    In her recent statements Ms Maria Fekter the A...                   0.0   \n",
       "1    How would the High Representative characterise...                   0.0   \n",
       "2    How would the High Representative characterise...                   0.0   \n",
       "3    How would the High Representative characterise...                   0.0   \n",
       "4    In his speech to the European Economic and Soc...                   0.5   \n",
       "5    In view of the important contribution made by ...                   0.0   \n",
       "6    The financial support measures granted to some...                   0.5   \n",
       "7    In 2009 the European Union launched the School...                   0.0   \n",
       "8    During 2010 three wolves were killed on the Od...                   0.0   \n",
       "9    Is the European Commission aware  of the pheno...                   0.0   \n",
       "10   One of the EU agencies the European Food Safet...                   0.5   \n",
       "11   According to several answers given by Ms Malms...                   0.5   \n",
       "12   According to the SWR television programme Repo...                   0.0   \n",
       "13   In a number of European countries considerable...                   0.0   \n",
       "14   The road haulage industry is a vital asset to ...                   0.0   \n",
       "15   Given that sport is of the utmost importance f...                   0.0   \n",
       "16   According to the website of the newspaper Elef...                   0.5   \n",
       "17   The earthquake the tsunami and the radiation l...                   0.0   \n",
       "18   According to Directive 2004/24/EC of the Europ...                   0.0   \n",
       "19   In its Green Paper on the modernisation of EU ...                   0.0   \n",
       "20   Silicon Valley is a unique business environmen...                   0.0   \n",
       "21   A report recently published by the European se...                   0.0   \n",
       "22   Reportedly one of the main points of friction ...                   0.0   \n",
       "23   A change was recently made to the remit of the...                   0.0   \n",
       "24   The numerous cases of match-fixing and illegal...                   0.0   \n",
       "25   After the protests by farmers in Brittany does...                   0.0   \n",
       "26   After an in-depth investigation the European P...                   0.0   \n",
       "27   Consideration should be given to the state of ...                   0.0   \n",
       "28   Recent and ongoing events have plunged Ukraine...                   0.0   \n",
       "29   There have recently been reports that the Comm...                   0.0   \n",
       "..                                                 ...                   ...   \n",
       "72   Strained relations with the Russian Federation...                   0.0   \n",
       "73   In its answer to Petition 0344/2006 on alleged...                   0.0   \n",
       "74   According to an interim report published on 1 ...                   0.0   \n",
       "75   Every year anÂ  ritual takes place in the Faro...                   0.0   \n",
       "76   How does the Commission viewÂ  of the followin...                   0.0   \n",
       "77   InÂ  from the Commission to the European Parli...                   0.0   \n",
       "78   On 11 February 2013 due to the possibility of ...                   0.0   \n",
       "79   Does the Commission know whether and how much ...                   0.0   \n",
       "80   The High Representative recently participated ...                   0.5   \n",
       "81   Under the EUs financial framework for 200713 n...                   0.0   \n",
       "82   Research by the University of Dalhousie in Can...                   0.0   \n",
       "83   It is well known that all the EU Member States...                   0.0   \n",
       "84   The disaster in the Gulf of Mexico has not yet...                   0.5   \n",
       "85   More than USD 2 billion in development aid has...                   1.0   \n",
       "86   2010 is the International Year of Biodiversity...                   0.0   \n",
       "87   The EU wine market underwent reform in 2008. T...                   0.0   \n",
       "88   In view of Iberias plans Singapore Airlines is...                   0.5   \n",
       "89   There is no direct regional passenger rail ser...                   0.0   \n",
       "90   Each year in Europe around 100 billion plastic...                   0.0   \n",
       "91   It was reported in the press a few days ago th...                   0.0   \n",
       "92   The CorcubiÃ³n estuary in Galicia is a site of...                   0.5   \n",
       "93   The registering of medical-veterinary products...                   0.0   \n",
       "94   The supply and private import of vehicles not ...                   0.0   \n",
       "95   At a recent meeting with milk producers in the...                   0.0   \n",
       "96   In a consultative paper published recently htt...                   0.0   \n",
       "97   Does the Commission know how many travel agenc...                   0.0   \n",
       "98   Ten years have passed since China ratified the...                   0.0   \n",
       "99   As a result of the vote on the subject at the ...                   0.0   \n",
       "100  The European Commission has submitted a propos...                   0.0   \n",
       "101  Under NATO auspices with the participation of ...                   0.0   \n",
       "\n",
       "     Nationalism_Score Populism_Score  \n",
       "0                  0.5              0  \n",
       "1                  0.0              0  \n",
       "2                  0.0              0  \n",
       "3                  0.0              0  \n",
       "4                  0.0              0  \n",
       "5                  0.0              0  \n",
       "6                  0.0            0.5  \n",
       "7                  0.0              0  \n",
       "8                  0.0              0  \n",
       "9                  0.0              0  \n",
       "10                 0.0              0  \n",
       "11                 0.0              0  \n",
       "12                 0.0              0  \n",
       "13                 0.0              0  \n",
       "14                 0.0              0  \n",
       "15                 0.0              0  \n",
       "16                 0.0              0  \n",
       "17                 0.5              0  \n",
       "18                 0.0              0  \n",
       "19                 0.0              0  \n",
       "20                 0.0              0  \n",
       "21                 0.0              0  \n",
       "22                 0.0              0  \n",
       "23                 0.0              0  \n",
       "24                 0.0              0  \n",
       "25                 0.0              0  \n",
       "26                 0.0              0  \n",
       "27                 0.0              0  \n",
       "28                 0.0              0  \n",
       "29                 0.0              0  \n",
       "..                 ...            ...  \n",
       "72                 0.0              0  \n",
       "73                 0.0              0  \n",
       "74                 0.0              0  \n",
       "75                 0.0              0  \n",
       "76                 0.0              0  \n",
       "77                 0.0              0  \n",
       "78                 0.0              0  \n",
       "79                 0.0              0  \n",
       "80                 0.0              0  \n",
       "81                 0.0              0  \n",
       "82                 0.0              0  \n",
       "83                 0.0              0  \n",
       "84                 0.0              0  \n",
       "85                 0.0              0  \n",
       "86                 0.0              0  \n",
       "87                 0.0              0  \n",
       "88                 0.0              0  \n",
       "89                 0.0              0  \n",
       "90                 0.0              0  \n",
       "91                 0.0              0  \n",
       "92                 0.0              0  \n",
       "93                 0.0              0  \n",
       "94                 0.0              0  \n",
       "95                 0.0              0  \n",
       "96                 0.0              0  \n",
       "97                 0.0              0  \n",
       "98                 0.0              0  \n",
       "99                 0.0              0  \n",
       "100                0.0              0  \n",
       "101                0.0              0  \n",
       "\n",
       "[1579 rows x 4 columns]"
      ]
     },
     "execution_count": 9,
     "metadata": {},
     "output_type": "execute_result"
    }
   ],
   "source": [
    "df"
   ]
  },
  {
   "cell_type": "code",
   "execution_count": 10,
   "metadata": {},
   "outputs": [],
   "source": [
    "X = vectorizer.fit_transform(df['Question Text'])"
   ]
  },
  {
   "cell_type": "code",
   "execution_count": 11,
   "metadata": {},
   "outputs": [
    {
     "data": {
      "text/plain": [
       "<1579x14063 sparse matrix of type '<class 'numpy.float64'>'\n",
       "\twith 157651 stored elements in Compressed Sparse Row format>"
      ]
     },
     "execution_count": 11,
     "metadata": {},
     "output_type": "execute_result"
    }
   ],
   "source": [
    "X"
   ]
  },
  {
   "cell_type": "code",
   "execution_count": 12,
   "metadata": {},
   "outputs": [],
   "source": [
    "def make_one(x):\n",
    "    if x > 0:\n",
    "        return 1\n",
    "    else:\n",
    "        return 0"
   ]
  },
  {
   "cell_type": "code",
   "execution_count": 13,
   "metadata": {},
   "outputs": [],
   "source": [
    "for w in ['Euroskepticism_Score','Nationalism_Score', 'Populism_Score']:\n",
    "    df[w] = df[w].astype('float')\n",
    "    df[w] = df[w].apply(make_one)"
   ]
  },
  {
   "cell_type": "code",
   "execution_count": 14,
   "metadata": {},
   "outputs": [
    {
     "data": {
      "text/plain": [
       "array([0, 1], dtype=int64)"
      ]
     },
     "execution_count": 14,
     "metadata": {},
     "output_type": "execute_result"
    }
   ],
   "source": [
    "df['Euroskepticism_Score'].unique()"
   ]
  },
  {
   "cell_type": "code",
   "execution_count": 15,
   "metadata": {},
   "outputs": [
    {
     "data": {
      "text/plain": [
       "array([1, 0], dtype=int64)"
      ]
     },
     "execution_count": 15,
     "metadata": {},
     "output_type": "execute_result"
    }
   ],
   "source": [
    "df['Nationalism_Score'].unique()"
   ]
  },
  {
   "cell_type": "code",
   "execution_count": 16,
   "metadata": {},
   "outputs": [
    {
     "data": {
      "text/plain": [
       "array([0, 1], dtype=int64)"
      ]
     },
     "execution_count": 16,
     "metadata": {},
     "output_type": "execute_result"
    }
   ],
   "source": [
    "df['Populism_Score'].unique()"
   ]
  },
  {
   "cell_type": "code",
   "execution_count": 34,
   "metadata": {},
   "outputs": [],
   "source": [
    "from sklearn.ensemble import GradientBoostingClassifier\n",
    "from sklearn.model_selection import train_test_split"
   ]
  },
  {
   "cell_type": "code",
   "execution_count": 35,
   "metadata": {},
   "outputs": [],
   "source": [
    "from sklearn.metrics import accuracy_score, confusion_matrix"
   ]
  },
  {
   "cell_type": "code",
   "execution_count": 36,
   "metadata": {},
   "outputs": [],
   "source": [
    "X_train, X_test, y_train, y_test = train_test_split(X, df['Euroskepticism_Score'], test_size = .3)"
   ]
  },
  {
   "cell_type": "code",
   "execution_count": 37,
   "metadata": {},
   "outputs": [
    {
     "data": {
      "text/plain": [
       "GradientBoostingClassifier(criterion='friedman_mse', init=None,\n",
       "              learning_rate=0.1, loss='deviance', max_depth=3,\n",
       "              max_features=None, max_leaf_nodes=None,\n",
       "              min_impurity_decrease=0.0, min_impurity_split=None,\n",
       "              min_samples_leaf=1, min_samples_split=2,\n",
       "              min_weight_fraction_leaf=0.0, n_estimators=100,\n",
       "              n_iter_no_change=None, presort='auto', random_state=None,\n",
       "              subsample=1.0, tol=0.0001, validation_fraction=0.1,\n",
       "              verbose=0, warm_start=False)"
      ]
     },
     "execution_count": 37,
     "metadata": {},
     "output_type": "execute_result"
    }
   ],
   "source": [
    "gbc = GradientBoostingClassifier()\n",
    "gbc.fit(X_train, y_train)"
   ]
  },
  {
   "cell_type": "code",
   "execution_count": 38,
   "metadata": {},
   "outputs": [],
   "source": [
    "y_pred = gbc.predict(X_test)"
   ]
  },
  {
   "cell_type": "code",
   "execution_count": 39,
   "metadata": {},
   "outputs": [
    {
     "data": {
      "text/plain": [
       "0.8375527426160337"
      ]
     },
     "execution_count": 39,
     "metadata": {},
     "output_type": "execute_result"
    }
   ],
   "source": [
    "accuracy_score(y_test, y_pred)"
   ]
  },
  {
   "cell_type": "code",
   "execution_count": 40,
   "metadata": {},
   "outputs": [
    {
     "data": {
      "text/plain": [
       "array([[384,   9],\n",
       "       [ 68,  13]], dtype=int64)"
      ]
     },
     "execution_count": 40,
     "metadata": {},
     "output_type": "execute_result"
    }
   ],
   "source": [
    "confusion_matrix(y_test, y_pred)"
   ]
  },
  {
   "cell_type": "code",
   "execution_count": 41,
   "metadata": {},
   "outputs": [],
   "source": [
    "X_train, X_test, y_train, y_test = train_test_split(X, df['Nationalism_Score'], test_size = .3)"
   ]
  },
  {
   "cell_type": "code",
   "execution_count": 42,
   "metadata": {},
   "outputs": [
    {
     "data": {
      "text/plain": [
       "GradientBoostingClassifier(criterion='friedman_mse', init=None,\n",
       "              learning_rate=0.1, loss='deviance', max_depth=3,\n",
       "              max_features=None, max_leaf_nodes=None,\n",
       "              min_impurity_decrease=0.0, min_impurity_split=None,\n",
       "              min_samples_leaf=1, min_samples_split=2,\n",
       "              min_weight_fraction_leaf=0.0, n_estimators=100,\n",
       "              n_iter_no_change=None, presort='auto', random_state=None,\n",
       "              subsample=1.0, tol=0.0001, validation_fraction=0.1,\n",
       "              verbose=0, warm_start=False)"
      ]
     },
     "execution_count": 42,
     "metadata": {},
     "output_type": "execute_result"
    }
   ],
   "source": [
    "gbc = GradientBoostingClassifier()\n",
    "gbc.fit(X_train, y_train)"
   ]
  },
  {
   "cell_type": "code",
   "execution_count": 43,
   "metadata": {},
   "outputs": [],
   "source": [
    "y_pred = gbc.predict(X_test)"
   ]
  },
  {
   "cell_type": "code",
   "execution_count": 44,
   "metadata": {},
   "outputs": [
    {
     "data": {
      "text/plain": [
       "0.9156118143459916"
      ]
     },
     "execution_count": 44,
     "metadata": {},
     "output_type": "execute_result"
    }
   ],
   "source": [
    "accuracy_score(y_test, y_pred)"
   ]
  },
  {
   "cell_type": "code",
   "execution_count": 45,
   "metadata": {},
   "outputs": [
    {
     "data": {
      "text/plain": [
       "array([[428,  12],\n",
       "       [ 28,   6]], dtype=int64)"
      ]
     },
     "execution_count": 45,
     "metadata": {},
     "output_type": "execute_result"
    }
   ],
   "source": [
    "confusion_matrix(y_test, y_pred)"
   ]
  },
  {
   "cell_type": "code",
   "execution_count": 46,
   "metadata": {},
   "outputs": [],
   "source": [
    "X_train, X_test, y_train, y_test = train_test_split(X, df['Populism_Score'], test_size = .3)"
   ]
  },
  {
   "cell_type": "code",
   "execution_count": 47,
   "metadata": {},
   "outputs": [
    {
     "data": {
      "text/plain": [
       "GradientBoostingClassifier(criterion='friedman_mse', init=None,\n",
       "              learning_rate=0.1, loss='deviance', max_depth=3,\n",
       "              max_features=None, max_leaf_nodes=None,\n",
       "              min_impurity_decrease=0.0, min_impurity_split=None,\n",
       "              min_samples_leaf=1, min_samples_split=2,\n",
       "              min_weight_fraction_leaf=0.0, n_estimators=100,\n",
       "              n_iter_no_change=None, presort='auto', random_state=None,\n",
       "              subsample=1.0, tol=0.0001, validation_fraction=0.1,\n",
       "              verbose=0, warm_start=False)"
      ]
     },
     "execution_count": 47,
     "metadata": {},
     "output_type": "execute_result"
    }
   ],
   "source": [
    "gbc = GradientBoostingClassifier()\n",
    "gbc.fit(X_train, y_train)"
   ]
  },
  {
   "cell_type": "code",
   "execution_count": 48,
   "metadata": {},
   "outputs": [],
   "source": [
    "y_pred = gbc.predict(X_test)"
   ]
  },
  {
   "cell_type": "code",
   "execution_count": 49,
   "metadata": {},
   "outputs": [
    {
     "data": {
      "text/plain": [
       "0.9282700421940928"
      ]
     },
     "execution_count": 49,
     "metadata": {},
     "output_type": "execute_result"
    }
   ],
   "source": [
    "accuracy_score(y_test, y_pred)"
   ]
  },
  {
   "cell_type": "code",
   "execution_count": 50,
   "metadata": {},
   "outputs": [
    {
     "data": {
      "text/plain": [
       "array([[435,  14],\n",
       "       [ 20,   5]], dtype=int64)"
      ]
     },
     "execution_count": 50,
     "metadata": {},
     "output_type": "execute_result"
    }
   ],
   "source": [
    "confusion_matrix(y_test, y_pred)"
   ]
  },
  {
   "cell_type": "code",
   "execution_count": 58,
   "metadata": {},
   "outputs": [],
   "source": [
    "X_train, X_test, y_train, y_test = train_test_split(X, df['Euroskepticism_Score'], test_size = .3)"
   ]
  },
  {
   "cell_type": "code",
   "execution_count": 59,
   "metadata": {},
   "outputs": [
    {
     "data": {
      "text/plain": [
       "array([[394,  18],\n",
       "       [ 61,   1]], dtype=int64)"
      ]
     },
     "execution_count": 59,
     "metadata": {},
     "output_type": "execute_result"
    }
   ],
   "source": [
    "confusion_matrix(y_test, y_pred)"
   ]
  },
  {
   "cell_type": "code",
   "execution_count": 56,
   "metadata": {},
   "outputs": [
    {
     "name": "stderr",
     "output_type": "stream",
     "text": [
      "Using TensorFlow backend.\n"
     ]
    }
   ],
   "source": [
    "import keras"
   ]
  },
  {
   "cell_type": "code",
   "execution_count": 57,
   "metadata": {},
   "outputs": [
    {
     "name": "stdout",
     "output_type": "stream",
     "text": [
      "Build model...\n"
     ]
    },
    {
     "ename": "ValueError",
     "evalue": "Please provide as model inputs either a single array or a list of arrays. You passed: x=  (0, 8145)\t0.15200255909896948\n  (0, 5028)\t0.15200255909896948\n  (0, 5846)\t0.15200255909896948\n  (0, 6361)\t0.15200255909896948\n  (0, 8845)\t0.15200255909896948\n  (0, 14030)\t0.15200255909896948\n  (0, 5378)\t0.30400511819793896\n  (0, 5895)\t0.15200255909896948\n  (0, 8816)\t0.43795441795976225\n  (0, 13605)\t0.12482406947332395\n  (0, 2840)\t0.12300395958524686\n  (0, 8630)\t0.13427872496149681\n  (0, 2913)\t0.13427872496149681\n  (0, 3702)\t0.11571805651998936\n  (0, 13604)\t0.12482406947332395\n  (0, 7043)\t0.08671945700626674\n  (0, 7626)\t0.11129787856015626\n  (0, 7554)\t0.0983487743934464\n  (0, 10489)\t0.0983487743934464\n  (0, 711)\t0.12300395958524686\n  (0, 4068)\t0.12132962079478696\n  (0, 4070)\t0.08968920056499602\n  (0, 9024)\t0.08968920056499602\n  (0, 9097)\t0.08734392331512207\n  (0, 8220)\t0.09400536007152425\n  :\t:\n  (1104, 6518)\t0.023347594386741364\n  (1104, 2464)\t0.043937780504260664\n  (1104, 13835)\t0.04734032447359902\n  (1104, 7253)\t0.029413555047243505\n  (1104, 8193)\t0.025362313214216402\n  (1104, 9188)\t0.04890446112714593\n  (1104, 12747)\t0.022464322649030647\n  (1104, 9063)\t0.03920823709569968\n  (1104, 7267)\t0.020771515025570217\n  (1104, 7219)\t0.037596695089341825\n  (1104, 13820)\t0.015894116667983516\n  (1104, 3059)\t0.03450329606042779\n  (1104, 13869)\t0.03682611182171539\n  (1104, 1380)\t0.09450311641671136\n  (1104, 12718)\t0.06270202635095073\n  (1104, 913)\t0.03790787112039923\n  (1104, 7125)\t0.02594502787686251\n  (1104, 9007)\t0.18451007492761826\n  (1104, 10950)\t0.054302604960951135\n  (1104, 12844)\t0.07184485506493847\n  (1104, 5819)\t0.038234904347535854\n  (1104, 1552)\t0.04757932891941369\n  (1104, 6279)\t0.04660142684856869\n  (1104, 12720)\t0.3575229968907032\n  (1104, 6738)\t0.0417889373123626",
     "output_type": "error",
     "traceback": [
      "\u001b[1;31m---------------------------------------------------------------------------\u001b[0m",
      "\u001b[1;31mValueError\u001b[0m                                Traceback (most recent call last)",
      "\u001b[1;32m<ipython-input-57-efdd3ea183af>\u001b[0m in \u001b[0;36m<module>\u001b[1;34m\u001b[0m\n\u001b[0;32m     43\u001b[0m           \u001b[0mbatch_size\u001b[0m\u001b[1;33m=\u001b[0m\u001b[0mbatch_size\u001b[0m\u001b[1;33m,\u001b[0m\u001b[1;33m\u001b[0m\u001b[1;33m\u001b[0m\u001b[0m\n\u001b[0;32m     44\u001b[0m           \u001b[0mepochs\u001b[0m\u001b[1;33m=\u001b[0m\u001b[0mepochs\u001b[0m\u001b[1;33m,\u001b[0m\u001b[1;33m\u001b[0m\u001b[1;33m\u001b[0m\u001b[0m\n\u001b[1;32m---> 45\u001b[1;33m           validation_data=(X_test, y_test))\n\u001b[0m",
      "\u001b[1;32mC:\\ProgramData\\Anaconda3\\lib\\site-packages\\keras\\engine\\training.py\u001b[0m in \u001b[0;36mfit\u001b[1;34m(self, x, y, batch_size, epochs, verbose, callbacks, validation_split, validation_data, shuffle, class_weight, sample_weight, initial_epoch, steps_per_epoch, validation_steps, validation_freq, max_queue_size, workers, use_multiprocessing, **kwargs)\u001b[0m\n\u001b[0;32m   1152\u001b[0m             \u001b[0msample_weight\u001b[0m\u001b[1;33m=\u001b[0m\u001b[0msample_weight\u001b[0m\u001b[1;33m,\u001b[0m\u001b[1;33m\u001b[0m\u001b[1;33m\u001b[0m\u001b[0m\n\u001b[0;32m   1153\u001b[0m             \u001b[0mclass_weight\u001b[0m\u001b[1;33m=\u001b[0m\u001b[0mclass_weight\u001b[0m\u001b[1;33m,\u001b[0m\u001b[1;33m\u001b[0m\u001b[1;33m\u001b[0m\u001b[0m\n\u001b[1;32m-> 1154\u001b[1;33m             batch_size=batch_size)\n\u001b[0m\u001b[0;32m   1155\u001b[0m \u001b[1;33m\u001b[0m\u001b[0m\n\u001b[0;32m   1156\u001b[0m         \u001b[1;31m# Prepare validation data.\u001b[0m\u001b[1;33m\u001b[0m\u001b[1;33m\u001b[0m\u001b[1;33m\u001b[0m\u001b[0m\n",
      "\u001b[1;32mC:\\ProgramData\\Anaconda3\\lib\\site-packages\\keras\\engine\\training.py\u001b[0m in \u001b[0;36m_standardize_user_data\u001b[1;34m(self, x, y, sample_weight, class_weight, check_array_lengths, batch_size)\u001b[0m\n\u001b[0;32m    495\u001b[0m                                      \u001b[1;34m'either a single '\u001b[0m\u001b[1;33m\u001b[0m\u001b[1;33m\u001b[0m\u001b[0m\n\u001b[0;32m    496\u001b[0m                                      \u001b[1;34m'array or a list of arrays. '\u001b[0m\u001b[1;33m\u001b[0m\u001b[1;33m\u001b[0m\u001b[0m\n\u001b[1;32m--> 497\u001b[1;33m                                      'You passed: x=' + str(x))\n\u001b[0m\u001b[0;32m    498\u001b[0m                 \u001b[0mall_inputs\u001b[0m\u001b[1;33m.\u001b[0m\u001b[0mappend\u001b[0m\u001b[1;33m(\u001b[0m\u001b[0mx\u001b[0m\u001b[1;33m)\u001b[0m\u001b[1;33m\u001b[0m\u001b[1;33m\u001b[0m\u001b[0m\n\u001b[0;32m    499\u001b[0m \u001b[1;33m\u001b[0m\u001b[0m\n",
      "\u001b[1;31mValueError\u001b[0m: Please provide as model inputs either a single array or a list of arrays. You passed: x=  (0, 8145)\t0.15200255909896948\n  (0, 5028)\t0.15200255909896948\n  (0, 5846)\t0.15200255909896948\n  (0, 6361)\t0.15200255909896948\n  (0, 8845)\t0.15200255909896948\n  (0, 14030)\t0.15200255909896948\n  (0, 5378)\t0.30400511819793896\n  (0, 5895)\t0.15200255909896948\n  (0, 8816)\t0.43795441795976225\n  (0, 13605)\t0.12482406947332395\n  (0, 2840)\t0.12300395958524686\n  (0, 8630)\t0.13427872496149681\n  (0, 2913)\t0.13427872496149681\n  (0, 3702)\t0.11571805651998936\n  (0, 13604)\t0.12482406947332395\n  (0, 7043)\t0.08671945700626674\n  (0, 7626)\t0.11129787856015626\n  (0, 7554)\t0.0983487743934464\n  (0, 10489)\t0.0983487743934464\n  (0, 711)\t0.12300395958524686\n  (0, 4068)\t0.12132962079478696\n  (0, 4070)\t0.08968920056499602\n  (0, 9024)\t0.08968920056499602\n  (0, 9097)\t0.08734392331512207\n  (0, 8220)\t0.09400536007152425\n  :\t:\n  (1104, 6518)\t0.023347594386741364\n  (1104, 2464)\t0.043937780504260664\n  (1104, 13835)\t0.04734032447359902\n  (1104, 7253)\t0.029413555047243505\n  (1104, 8193)\t0.025362313214216402\n  (1104, 9188)\t0.04890446112714593\n  (1104, 12747)\t0.022464322649030647\n  (1104, 9063)\t0.03920823709569968\n  (1104, 7267)\t0.020771515025570217\n  (1104, 7219)\t0.037596695089341825\n  (1104, 13820)\t0.015894116667983516\n  (1104, 3059)\t0.03450329606042779\n  (1104, 13869)\t0.03682611182171539\n  (1104, 1380)\t0.09450311641671136\n  (1104, 12718)\t0.06270202635095073\n  (1104, 913)\t0.03790787112039923\n  (1104, 7125)\t0.02594502787686251\n  (1104, 9007)\t0.18451007492761826\n  (1104, 10950)\t0.054302604960951135\n  (1104, 12844)\t0.07184485506493847\n  (1104, 5819)\t0.038234904347535854\n  (1104, 1552)\t0.04757932891941369\n  (1104, 6279)\t0.04660142684856869\n  (1104, 12720)\t0.3575229968907032\n  (1104, 6738)\t0.0417889373123626"
     ]
    }
   ],
   "source": [
    "from keras.preprocessing import sequence\n",
    "from keras.models import Sequential\n",
    "from keras.layers import Dense, Dropout, Activation\n",
    "from keras.layers import Embedding\n",
    "from keras.layers import Conv1D, GlobalMaxPooling1D\n",
    "from keras.datasets import imdb\n",
    "\n",
    "# set parameters:\n",
    "batch_size = 32\n",
    "filters = 250\n",
    "kernel_size = 3\n",
    "hidden_dims = 250\n",
    "epochs = 2\n",
    "\n",
    "\n",
    "print('Build model...')\n",
    "model = Sequential()\n",
    "\n",
    "\n",
    "# we add a Convolution1D, which will learn filters\n",
    "# word group filters of size filter_length:\n",
    "model.add(Conv1D(filters,\n",
    "                 kernel_size,\n",
    "                 padding='valid',\n",
    "                 activation='relu',\n",
    "                 strides=1))\n",
    "# we use max pooling:\n",
    "model.add(GlobalMaxPooling1D())\n",
    "\n",
    "# We add a vanilla hidden layer:\n",
    "model.add(Dense(hidden_dims))\n",
    "model.add(Dropout(0.2))\n",
    "model.add(Activation('relu'))\n",
    "\n",
    "# We project onto a single unit output layer, and squash it with a sigmoid:\n",
    "model.add(Dense(1))\n",
    "model.add(Activation('sigmoid'))\n",
    "\n",
    "model.compile(loss='binary_crossentropy',\n",
    "              optimizer='adam',\n",
    "              metrics=['accuracy'])\n",
    "model.fit(X_train, y_train,\n",
    "          batch_size=batch_size,\n",
    "          epochs=epochs,\n",
    "          validation_data=(X_test, y_test))\n"
   ]
  },
  {
   "cell_type": "code",
   "execution_count": null,
   "metadata": {},
   "outputs": [],
   "source": []
  }
 ],
 "metadata": {
  "kernelspec": {
   "display_name": "Python 3",
   "language": "python",
   "name": "python3"
  },
  "language_info": {
   "codemirror_mode": {
    "name": "ipython",
    "version": 3
   },
   "file_extension": ".py",
   "mimetype": "text/x-python",
   "name": "python",
   "nbconvert_exporter": "python",
   "pygments_lexer": "ipython3",
   "version": "3.7.3"
  }
 },
 "nbformat": 4,
 "nbformat_minor": 2
}
